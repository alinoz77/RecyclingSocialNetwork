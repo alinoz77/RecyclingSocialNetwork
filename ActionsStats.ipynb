{
 "cells": [
  {
   "cell_type": "code",
   "execution_count": 10,
   "id": "e62ea232-34ec-4d2e-a4de-be6196ba84f3",
   "metadata": {},
   "outputs": [],
   "source": [
    "import matplotlib.pyplot as plt\n",
    "import numpy as np\n",
    "import pandas as pd\n",
    "\n",
    "actions_df = pd.read_json('./actions_export.json')"
   ]
  },
  {
   "cell_type": "code",
   "execution_count": 6,
   "id": "e9cbff5c-3dec-423c-afb5-bfef21e28232",
   "metadata": {},
   "outputs": [
    {
     "data": {
      "text/html": [
       "<div>\n",
       "<style scoped>\n",
       "    .dataframe tbody tr th:only-of-type {\n",
       "        vertical-align: middle;\n",
       "    }\n",
       "\n",
       "    .dataframe tbody tr th {\n",
       "        vertical-align: top;\n",
       "    }\n",
       "\n",
       "    .dataframe thead th {\n",
       "        text-align: right;\n",
       "    }\n",
       "</style>\n",
       "<table border=\"1\" class=\"dataframe\">\n",
       "  <thead>\n",
       "    <tr style=\"text-align: right;\">\n",
       "      <th></th>\n",
       "      <th>action</th>\n",
       "      <th>action_user</th>\n",
       "      <th>creation_time_interval</th>\n",
       "      <th>countryCode</th>\n",
       "      <th>verified</th>\n",
       "      <th>verification_time_interval</th>\n",
       "      <th>verification_user</th>\n",
       "    </tr>\n",
       "  </thead>\n",
       "  <tbody>\n",
       "    <tr>\n",
       "      <th>0</th>\n",
       "      <td>ActC813</td>\n",
       "      <td>UsrTC169798</td>\n",
       "      <td>T1</td>\n",
       "      <td>GB</td>\n",
       "      <td>1</td>\n",
       "      <td>T2</td>\n",
       "      <td>UsrDQ12518</td>\n",
       "    </tr>\n",
       "    <tr>\n",
       "      <th>1</th>\n",
       "      <td>ActD7278</td>\n",
       "      <td>UsrHL139371</td>\n",
       "      <td>T6</td>\n",
       "      <td>RS</td>\n",
       "      <td>1</td>\n",
       "      <td>T6</td>\n",
       "      <td>UsrLC139074</td>\n",
       "    </tr>\n",
       "    <tr>\n",
       "      <th>2</th>\n",
       "      <td>ActIF382</td>\n",
       "      <td>UsrZH20667</td>\n",
       "      <td>T3</td>\n",
       "      <td>DE</td>\n",
       "      <td>1</td>\n",
       "      <td>T3</td>\n",
       "      <td>UsrI991023</td>\n",
       "    </tr>\n",
       "    <tr>\n",
       "      <th>3</th>\n",
       "      <td>ActVM473</td>\n",
       "      <td>UsrFW107295</td>\n",
       "      <td>T2</td>\n",
       "      <td>DE</td>\n",
       "      <td>1</td>\n",
       "      <td>T3</td>\n",
       "      <td>UsrF650544</td>\n",
       "    </tr>\n",
       "    <tr>\n",
       "      <th>4</th>\n",
       "      <td>ActUQ522</td>\n",
       "      <td>UsrCH97065</td>\n",
       "      <td>T4</td>\n",
       "      <td>IT</td>\n",
       "      <td>1</td>\n",
       "      <td>T4</td>\n",
       "      <td>UsrUS8924</td>\n",
       "    </tr>\n",
       "    <tr>\n",
       "      <th>...</th>\n",
       "      <td>...</td>\n",
       "      <td>...</td>\n",
       "      <td>...</td>\n",
       "      <td>...</td>\n",
       "      <td>...</td>\n",
       "      <td>...</td>\n",
       "      <td>...</td>\n",
       "    </tr>\n",
       "    <tr>\n",
       "      <th>12030</th>\n",
       "      <td>ActRR1398986</td>\n",
       "      <td>UsrN944810</td>\n",
       "      <td>T8</td>\n",
       "      <td>DE</td>\n",
       "      <td>1</td>\n",
       "      <td>T8</td>\n",
       "      <td>UsrTC169798</td>\n",
       "    </tr>\n",
       "    <tr>\n",
       "      <th>12031</th>\n",
       "      <td>ActSM1399097</td>\n",
       "      <td>UsrU215322</td>\n",
       "      <td>T6</td>\n",
       "      <td>DE</td>\n",
       "      <td>1</td>\n",
       "      <td>T6</td>\n",
       "      <td>UsrF650544</td>\n",
       "    </tr>\n",
       "    <tr>\n",
       "      <th>12032</th>\n",
       "      <td>ActDZ1399129</td>\n",
       "      <td>Usr9G46290</td>\n",
       "      <td>T6</td>\n",
       "      <td>RO</td>\n",
       "      <td>1</td>\n",
       "      <td>T6</td>\n",
       "      <td>UsrCL187474</td>\n",
       "    </tr>\n",
       "    <tr>\n",
       "      <th>12033</th>\n",
       "      <td>ActNO1399254</td>\n",
       "      <td>UsrNQ19577</td>\n",
       "      <td>T6</td>\n",
       "      <td>DE</td>\n",
       "      <td>1</td>\n",
       "      <td>T6</td>\n",
       "      <td>UsrPU54650</td>\n",
       "    </tr>\n",
       "    <tr>\n",
       "      <th>12034</th>\n",
       "      <td>ActED1399381</td>\n",
       "      <td>UsrNJ185892</td>\n",
       "      <td>T10</td>\n",
       "      <td>RS</td>\n",
       "      <td>1</td>\n",
       "      <td>T10</td>\n",
       "      <td>UsrVW170264</td>\n",
       "    </tr>\n",
       "  </tbody>\n",
       "</table>\n",
       "<p>12035 rows × 7 columns</p>\n",
       "</div>"
      ],
      "text/plain": [
       "             action  action_user creation_time_interval countryCode  verified  \\\n",
       "0           ActC813  UsrTC169798                     T1          GB         1   \n",
       "1          ActD7278  UsrHL139371                     T6          RS         1   \n",
       "2          ActIF382   UsrZH20667                     T3          DE         1   \n",
       "3          ActVM473  UsrFW107295                     T2          DE         1   \n",
       "4          ActUQ522   UsrCH97065                     T4          IT         1   \n",
       "...             ...          ...                    ...         ...       ...   \n",
       "12030  ActRR1398986   UsrN944810                     T8          DE         1   \n",
       "12031  ActSM1399097   UsrU215322                     T6          DE         1   \n",
       "12032  ActDZ1399129   Usr9G46290                     T6          RO         1   \n",
       "12033  ActNO1399254   UsrNQ19577                     T6          DE         1   \n",
       "12034  ActED1399381  UsrNJ185892                    T10          RS         1   \n",
       "\n",
       "      verification_time_interval verification_user  \n",
       "0                             T2        UsrDQ12518  \n",
       "1                             T6       UsrLC139074  \n",
       "2                             T3        UsrI991023  \n",
       "3                             T3        UsrF650544  \n",
       "4                             T4         UsrUS8924  \n",
       "...                          ...               ...  \n",
       "12030                         T8       UsrTC169798  \n",
       "12031                         T6        UsrF650544  \n",
       "12032                         T6       UsrCL187474  \n",
       "12033                         T6        UsrPU54650  \n",
       "12034                        T10       UsrVW170264  \n",
       "\n",
       "[12035 rows x 7 columns]"
      ]
     },
     "execution_count": 6,
     "metadata": {},
     "output_type": "execute_result"
    }
   ],
   "source": [
    "actions_df"
   ]
  },
  {
   "cell_type": "code",
   "execution_count": 14,
   "id": "0bbaa3ba-f6ac-4016-bdee-df9b9290a921",
   "metadata": {},
   "outputs": [],
   "source": [
    "actions_by_country = actions_df['countryCode'].value_counts()"
   ]
  },
  {
   "cell_type": "code",
   "execution_count": 16,
   "id": "13047dcb-bc11-4f21-9ef7-5944c2ac118b",
   "metadata": {},
   "outputs": [
    {
     "data": {
      "text/plain": [
       "<Axes: ylabel='countryCode'>"
      ]
     },
     "execution_count": 16,
     "metadata": {},
     "output_type": "execute_result"
    },
    {
     "data": {
      "image/png": "[encoded data removed]",
      "text/plain": [
       "<Figure size 640x480 with 1 Axes>"
      ]
     },
     "metadata": {},
     "output_type": "display_data"
    }
   ],
   "source": [
    "actions_by_country[actions_by_country > 50].plot(kind='barh')"
   ]
  },
  {
   "cell_type": "code",
   "execution_count": 17,
   "id": "396f1bf5-cecb-458f-9d03-76599f320242",
   "metadata": {},
   "outputs": [
    {
     "data": {
      "text/plain": [
       "<Axes: ylabel='creation_time_interval'>"
      ]
     },
     "execution_count": 17,
     "metadata": {},
     "output_type": "execute_result"
    },
    {
     "data": {
      "image/png": "[encoded data removed]",
      "text/plain": [
       "<Figure size 640x480 with 1 Axes>"
      ]
     },
     "metadata": {},
     "output_type": "display_data"
    }
   ],
   "source": [
    "actions_by_interval = actions_df['creation_time_interval'].value_counts()\n",
    "actions_by_interval.plot(kind='barh')"
   ]
  },
  {
   "cell_type": "code",
   "execution_count": 18,
   "id": "300e5bbb-1cb2-4e01-bdd4-9a7d94a596bf",
   "metadata": {},
   "outputs": [
    {
     "data": {
      "text/plain": [
       "<Axes: ylabel='verification_time_interval'>"
      ]
     },
     "execution_count": 18,
     "metadata": {},
     "output_type": "execute_result"
    },
    {
     "data": {
      "image/png": "[encoded data removed]",
      "text/plain": [
       "<Figure size 640x480 with 1 Axes>"
      ]
     },
     "metadata": {},
     "output_type": "display_data"
    }
   ],
   "source": [
    "actions_verif_by_interval = actions_df['verification_time_interval'].value_counts()\n",
    "actions_verif_by_interval.plot(kind='barh')"
   ]
  }
 ],
 "metadata": {
  "kernelspec": {
   "display_name": "Python 3 (ipykernel)",
   "language": "python",
   "name": "python3"
  },
  "language_info": {
   "codemirror_mode": {
    "name": "ipython",
    "version": 3
   },
   "file_extension": ".py",
   "mimetype": "text/x-python",
   "name": "python",
   "nbconvert_exporter": "python",
   "pygments_lexer": "ipython3",
   "version": "3.9.2"
  }
 },
 "nbformat": 4,
 "nbformat_minor": 5
}
