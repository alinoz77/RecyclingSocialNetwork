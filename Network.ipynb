{
 "cells": [
  {
   "cell_type": "code",
   "execution_count": 2,
   "id": "6be96b61-f260-4a57-9ff3-51b36915a5bc",
   "metadata": {},
   "outputs": [],
   "source": [
    "import matplotlib.pyplot as plt\n",
    "import numpy as np\n",
    "import pandas as pd\n",
    "import networkx as nx\n",
    "\n",
    "actions_df = pd.read_json('./actions_export.json')"
   ]
  },
  {
   "cell_type": "code",
   "execution_count": 25,
   "id": "d1744f23-5ae7-45f5-8fe6-665592c0281a",
   "metadata": {},
   "outputs": [],
   "source": [
    "  G1=nx.from_pandas_edgelist(actions_df[(actions_df['verified']==1) & (actions_df['creation_time_interval']=='T1')], 'verification_user', 'action_user')"
   ]
  },
  {
   "cell_type": "code",
   "execution_count": 27,
   "id": "2ae8a48d-0b98-4760-90a5-16466449bc1c",
   "metadata": {},
   "outputs": [],
   "source": [
    "  G_final=nx.from_pandas_edgelist(actions_df[(actions_df['verified']==1)], 'verification_user', 'action_user')"
   ]
  },
  {
   "cell_type": "code",
   "execution_count": 26,
   "id": "551fa9e6-cae8-442c-8824-d524c1280835",
   "metadata": {},
   "outputs": [
    {
     "data": {
      "image/png": "[encoded data removed]",
      "text/plain": [
       "<Figure size 640x480 with 1 Axes>"
      ]
     },
     "metadata": {},
     "output_type": "display_data"
    }
   ],
   "source": [
    "nx.draw_networkx(G1, with_labels=False, node_size=30)"
   ]
  },
  {
   "cell_type": "code",
   "execution_count": 30,
   "id": "a3b34cc8-c462-4453-851d-d6431f0b3ae2",
   "metadata": {},
   "outputs": [],
   "source": [
    "nx.write_edgelist(G_all, \"t1_edge_list.gz\");"
   ]
  },
  {
   "cell_type": "code",
   "execution_count": null,
   "id": "8b1ee2b8-d307-404c-a2ef-53c5182f1588",
   "metadata": {},
   "outputs": [],
   "source": [
    "g1_edge.list"
   ]
  }
 ],
 "metadata": {
  "kernelspec": {
   "display_name": "Python 3 (ipykernel)",
   "language": "python",
   "name": "python3"
  },
  "language_info": {
   "codemirror_mode": {
    "name": "ipython",
    "version": 3
   },
   "file_extension": ".py",
   "mimetype": "text/x-python",
   "name": "python",
   "nbconvert_exporter": "python",
   "pygments_lexer": "ipython3",
   "version": "3.9.2"
  }
 },
 "nbformat": 4,
 "nbformat_minor": 5
}
